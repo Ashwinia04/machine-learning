{
  "nbformat": 4,
  "nbformat_minor": 0,
  "metadata": {
    "colab": {
      "provenance": [],
      "authorship_tag": "ABX9TyNMFCsHdQDVMdPA+2ppUZZW",
      "include_colab_link": true
    },
    "kernelspec": {
      "name": "python3",
      "display_name": "Python 3"
    },
    "language_info": {
      "name": "python"
    }
  },
  "cells": [
    {
      "cell_type": "markdown",
      "metadata": {
        "id": "view-in-github",
        "colab_type": "text"
      },
      "source": [
        "<a href=\"https://colab.research.google.com/github/Ashwinia04/machine-learning/blob/main/E8122008_CA2_ML.ipynb\" target=\"_parent\"><img src=\"https://colab.research.google.com/assets/colab-badge.svg\" alt=\"Open In Colab\"/></a>"
      ]
    },
    {
      "cell_type": "markdown",
      "source": [
        "Q2."
      ],
      "metadata": {
        "id": "xuNWhTdUUFtz"
      }
    },
    {
      "cell_type": "markdown",
      "source": [
        "Artificial neural networks is a technology that mimics a human brain to learn from some key features and classify or predict in the real world. An artificial neural network is composed of numbers of neurons which is compared to the neurons in the human brain. It is designed to make a computer learn from small insights and features and make them autonomous to learn from the real world and provide solutions in real-time faster than a human.It will be in the form of Input layer , Hidden layer and Outer layer."
      ],
      "metadata": {
        "id": "ydL0I0CqiNbi"
      }
    },
    {
      "cell_type": "code",
      "source": [
        "#importing libraries\n",
        "from sklearn.datasets import load_iris\n",
        "from sklearn.model_selection import train_test_split\n",
        "from sklearn.preprocessing import LabelEncoder\n",
        "from tensorflow import keras\n",
        "from tensorflow.keras.layers import Dense"
      ],
      "metadata": {
        "id": "N1A5pKjCUEy6"
      },
      "execution_count": 36,
      "outputs": []
    },
    {
      "cell_type": "markdown",
      "source": [
        "This iris dataset contains three classes of flowers, Versicolor, Setosa, Virginica, and each class contains 4 features, 'Sepal length', 'Sepal width', 'Petal length', 'Petal width'."
      ],
      "metadata": {
        "id": "fwJtP_7NcIU9"
      }
    },
    {
      "cell_type": "code",
      "source": [
        "#load the data\n",
        "iris = load_iris()"
      ],
      "metadata": {
        "id": "i0AlvPkhUN0q"
      },
      "execution_count": 37,
      "outputs": []
    },
    {
      "cell_type": "code",
      "source": [
        "iris.feature_names"
      ],
      "metadata": {
        "colab": {
          "base_uri": "https://localhost:8080/",
          "height": 0
        },
        "id": "U-OBYCHIVbEF",
        "outputId": "77ca8384-08f6-4443-e6ed-fd9ed7df7413"
      },
      "execution_count": 39,
      "outputs": [
        {
          "output_type": "execute_result",
          "data": {
            "text/plain": [
              "['sepal length (cm)',\n",
              " 'sepal width (cm)',\n",
              " 'petal length (cm)',\n",
              " 'petal width (cm)']"
            ]
          },
          "metadata": {},
          "execution_count": 39
        }
      ]
    },
    {
      "cell_type": "code",
      "source": [
        "iris.target_names"
      ],
      "metadata": {
        "colab": {
          "base_uri": "https://localhost:8080/",
          "height": 0
        },
        "id": "W5bV83HxVgE_",
        "outputId": "05a31ddc-0c71-463d-c9e3-04cd66919b6a"
      },
      "execution_count": 40,
      "outputs": [
        {
          "output_type": "execute_result",
          "data": {
            "text/plain": [
              "array(['setosa', 'versicolor', 'virginica'], dtype='<U10')"
            ]
          },
          "metadata": {},
          "execution_count": 40
        }
      ]
    },
    {
      "cell_type": "code",
      "source": [
        "#splitting the data \n",
        "X = iris.data\n",
        "y = iris.target"
      ],
      "metadata": {
        "id": "wWo-7aHEVjtA"
      },
      "execution_count": 41,
      "outputs": []
    },
    {
      "cell_type": "code",
      "source": [
        "X_train, X_test, y_train, y_test = train_test_split(X, y, test_size=0.2, random_state=42)"
      ],
      "metadata": {
        "id": "XOVz1ZQhVtQx"
      },
      "execution_count": 42,
      "outputs": []
    },
    {
      "cell_type": "code",
      "source": [
        "X_train.shape"
      ],
      "metadata": {
        "colab": {
          "base_uri": "https://localhost:8080/",
          "height": 0
        },
        "id": "6THGBZ4WVypx",
        "outputId": "0b811c41-6459-4469-9eeb-a90c93c5ea5b"
      },
      "execution_count": 43,
      "outputs": [
        {
          "output_type": "execute_result",
          "data": {
            "text/plain": [
              "(120, 4)"
            ]
          },
          "metadata": {},
          "execution_count": 43
        }
      ]
    },
    {
      "cell_type": "code",
      "source": [
        "X_test.shape"
      ],
      "metadata": {
        "colab": {
          "base_uri": "https://localhost:8080/",
          "height": 0
        },
        "id": "1B2pU4fbV1Gl",
        "outputId": "acb029d5-a66c-400b-a754-451aa7300e77"
      },
      "execution_count": 44,
      "outputs": [
        {
          "output_type": "execute_result",
          "data": {
            "text/plain": [
              "(30, 4)"
            ]
          },
          "metadata": {},
          "execution_count": 44
        }
      ]
    },
    {
      "cell_type": "code",
      "source": [
        "y_train.shape"
      ],
      "metadata": {
        "colab": {
          "base_uri": "https://localhost:8080/",
          "height": 0
        },
        "id": "sZSYnpIVV4W0",
        "outputId": "887c4429-f3ca-4dce-af5f-547c82b376be"
      },
      "execution_count": 45,
      "outputs": [
        {
          "output_type": "execute_result",
          "data": {
            "text/plain": [
              "(120,)"
            ]
          },
          "metadata": {},
          "execution_count": 45
        }
      ]
    },
    {
      "cell_type": "code",
      "source": [
        "y_test.shape"
      ],
      "metadata": {
        "colab": {
          "base_uri": "https://localhost:8080/",
          "height": 0
        },
        "id": "untT8PF8V6qQ",
        "outputId": "7f697645-50ae-4af5-8126-7617656430f4"
      },
      "execution_count": 46,
      "outputs": [
        {
          "output_type": "execute_result",
          "data": {
            "text/plain": [
              "(30,)"
            ]
          },
          "metadata": {},
          "execution_count": 46
        }
      ]
    },
    {
      "cell_type": "markdown",
      "source": [
        "There are 120 training flowers and 30 testing flowers in this data"
      ],
      "metadata": {
        "id": "qIkVrJU2mcfU"
      }
    },
    {
      "cell_type": "code",
      "source": [
        "iris_class = ['0-setosa', '1-versicolor', '2-virginica']"
      ],
      "metadata": {
        "id": "pugJt_Z6V85q"
      },
      "execution_count": 47,
      "outputs": []
    },
    {
      "cell_type": "code",
      "source": [
        "#ANN model\n",
        "model = keras.Sequential()\n",
        "model.add(Dense(10, input_shape=(4,), activation='relu'))\n",
        "model.add(Dense(8, activation='relu'))\n",
        "model.add(Dense(3, activation='softmax'))"
      ],
      "metadata": {
        "id": "rSt-WL-KWABp"
      },
      "execution_count": 48,
      "outputs": []
    },
    {
      "cell_type": "code",
      "source": [
        "#Compile the model\n",
        "model.compile(loss='sparse_categorical_crossentropy', optimizer='adam', metrics=['accuracy'])"
      ],
      "metadata": {
        "id": "4EkoDLhWWDq5"
      },
      "execution_count": 49,
      "outputs": []
    },
    {
      "cell_type": "markdown",
      "source": [
        "Epochs are simply the number of times the entire dataset passes forward and backpropagated by updating the weights on a neural network. BY doing this we can find unseen patterns and information in every single epoch and hence it improves the accuracy of the model."
      ],
      "metadata": {
        "id": "NsAN4XSSiroh"
      }
    },
    {
      "cell_type": "code",
      "source": [
        "#Train the model\n",
        "model.fit(X_train, y_train, batch_size=5, epochs=100, validation_split=0.2)"
      ],
      "metadata": {
        "colab": {
          "base_uri": "https://localhost:8080/",
          "height": 0
        },
        "id": "05O5mAr0WKln",
        "outputId": "39b02a37-6cc5-46bd-ca7a-4939e95852a4"
      },
      "execution_count": 50,
      "outputs": [
        {
          "output_type": "stream",
          "name": "stdout",
          "text": [
            "Epoch 1/100\n",
            "20/20 [==============================] - 1s 12ms/step - loss: 1.0521 - accuracy: 0.3542 - val_loss: 1.0836 - val_accuracy: 0.2917\n",
            "Epoch 2/100\n",
            "20/20 [==============================] - 0s 5ms/step - loss: 1.0135 - accuracy: 0.3542 - val_loss: 1.0548 - val_accuracy: 0.2917\n",
            "Epoch 3/100\n",
            "20/20 [==============================] - 0s 4ms/step - loss: 0.9925 - accuracy: 0.3750 - val_loss: 1.0179 - val_accuracy: 0.3750\n",
            "Epoch 4/100\n",
            "20/20 [==============================] - 0s 4ms/step - loss: 0.9697 - accuracy: 0.6354 - val_loss: 0.9977 - val_accuracy: 0.4583\n",
            "Epoch 5/100\n",
            "20/20 [==============================] - 0s 4ms/step - loss: 0.9454 - accuracy: 0.6875 - val_loss: 0.9687 - val_accuracy: 0.4583\n",
            "Epoch 6/100\n",
            "20/20 [==============================] - 0s 4ms/step - loss: 0.9240 - accuracy: 0.6146 - val_loss: 0.9309 - val_accuracy: 0.4167\n",
            "Epoch 7/100\n",
            "20/20 [==============================] - 0s 4ms/step - loss: 0.8950 - accuracy: 0.6979 - val_loss: 0.9369 - val_accuracy: 0.4583\n",
            "Epoch 8/100\n",
            "20/20 [==============================] - 0s 4ms/step - loss: 0.8642 - accuracy: 0.6562 - val_loss: 0.8693 - val_accuracy: 0.4167\n",
            "Epoch 9/100\n",
            "20/20 [==============================] - 0s 4ms/step - loss: 0.8332 - accuracy: 0.6875 - val_loss: 0.8437 - val_accuracy: 0.4583\n",
            "Epoch 10/100\n",
            "20/20 [==============================] - 0s 4ms/step - loss: 0.8060 - accuracy: 0.6979 - val_loss: 0.8371 - val_accuracy: 0.4583\n",
            "Epoch 11/100\n",
            "20/20 [==============================] - 0s 4ms/step - loss: 0.7786 - accuracy: 0.7083 - val_loss: 0.8179 - val_accuracy: 0.4583\n",
            "Epoch 12/100\n",
            "20/20 [==============================] - 0s 3ms/step - loss: 0.7474 - accuracy: 0.6979 - val_loss: 0.7782 - val_accuracy: 0.4583\n",
            "Epoch 13/100\n",
            "20/20 [==============================] - 0s 3ms/step - loss: 0.7229 - accuracy: 0.7292 - val_loss: 0.7747 - val_accuracy: 0.5833\n",
            "Epoch 14/100\n",
            "20/20 [==============================] - 0s 4ms/step - loss: 0.6954 - accuracy: 0.7083 - val_loss: 0.7281 - val_accuracy: 0.5417\n",
            "Epoch 15/100\n",
            "20/20 [==============================] - 0s 3ms/step - loss: 0.6684 - accuracy: 0.7500 - val_loss: 0.7338 - val_accuracy: 0.5833\n",
            "Epoch 16/100\n",
            "20/20 [==============================] - 0s 4ms/step - loss: 0.6432 - accuracy: 0.7917 - val_loss: 0.6858 - val_accuracy: 0.6250\n",
            "Epoch 17/100\n",
            "20/20 [==============================] - 0s 4ms/step - loss: 0.6270 - accuracy: 0.7292 - val_loss: 0.6869 - val_accuracy: 0.5833\n",
            "Epoch 18/100\n",
            "20/20 [==============================] - 0s 4ms/step - loss: 0.5984 - accuracy: 0.7812 - val_loss: 0.6538 - val_accuracy: 0.6250\n",
            "Epoch 19/100\n",
            "20/20 [==============================] - 0s 4ms/step - loss: 0.5740 - accuracy: 0.7708 - val_loss: 0.6497 - val_accuracy: 0.6250\n",
            "Epoch 20/100\n",
            "20/20 [==============================] - 0s 3ms/step - loss: 0.5563 - accuracy: 0.8438 - val_loss: 0.6400 - val_accuracy: 0.6667\n",
            "Epoch 21/100\n",
            "20/20 [==============================] - 0s 3ms/step - loss: 0.5393 - accuracy: 0.8021 - val_loss: 0.6121 - val_accuracy: 0.7083\n",
            "Epoch 22/100\n",
            "20/20 [==============================] - 0s 4ms/step - loss: 0.5195 - accuracy: 0.8125 - val_loss: 0.5943 - val_accuracy: 0.7500\n",
            "Epoch 23/100\n",
            "20/20 [==============================] - 0s 3ms/step - loss: 0.5060 - accuracy: 0.8646 - val_loss: 0.6077 - val_accuracy: 0.6667\n",
            "Epoch 24/100\n",
            "20/20 [==============================] - 0s 4ms/step - loss: 0.4910 - accuracy: 0.8854 - val_loss: 0.5773 - val_accuracy: 0.7500\n",
            "Epoch 25/100\n",
            "20/20 [==============================] - 0s 4ms/step - loss: 0.4822 - accuracy: 0.8646 - val_loss: 0.5841 - val_accuracy: 0.6667\n",
            "Epoch 26/100\n",
            "20/20 [==============================] - 0s 3ms/step - loss: 0.4680 - accuracy: 0.8646 - val_loss: 0.5592 - val_accuracy: 0.7500\n",
            "Epoch 27/100\n",
            "20/20 [==============================] - 0s 3ms/step - loss: 0.4538 - accuracy: 0.8958 - val_loss: 0.5366 - val_accuracy: 0.8333\n",
            "Epoch 28/100\n",
            "20/20 [==============================] - 0s 3ms/step - loss: 0.4421 - accuracy: 0.8958 - val_loss: 0.5409 - val_accuracy: 0.7500\n",
            "Epoch 29/100\n",
            "20/20 [==============================] - 0s 4ms/step - loss: 0.4326 - accuracy: 0.9062 - val_loss: 0.5266 - val_accuracy: 0.7917\n",
            "Epoch 30/100\n",
            "20/20 [==============================] - 0s 4ms/step - loss: 0.4238 - accuracy: 0.8750 - val_loss: 0.5012 - val_accuracy: 0.8333\n",
            "Epoch 31/100\n",
            "20/20 [==============================] - 0s 3ms/step - loss: 0.4133 - accuracy: 0.9062 - val_loss: 0.5069 - val_accuracy: 0.8750\n",
            "Epoch 32/100\n",
            "20/20 [==============================] - 0s 3ms/step - loss: 0.4042 - accuracy: 0.8958 - val_loss: 0.4980 - val_accuracy: 0.8750\n",
            "Epoch 33/100\n",
            "20/20 [==============================] - 0s 4ms/step - loss: 0.3951 - accuracy: 0.9167 - val_loss: 0.4871 - val_accuracy: 0.8750\n",
            "Epoch 34/100\n",
            "20/20 [==============================] - 0s 3ms/step - loss: 0.3914 - accuracy: 0.9062 - val_loss: 0.4780 - val_accuracy: 0.8750\n",
            "Epoch 35/100\n",
            "20/20 [==============================] - 0s 4ms/step - loss: 0.3821 - accuracy: 0.8854 - val_loss: 0.4923 - val_accuracy: 0.7500\n",
            "Epoch 36/100\n",
            "20/20 [==============================] - 0s 3ms/step - loss: 0.3763 - accuracy: 0.9271 - val_loss: 0.4547 - val_accuracy: 0.8750\n",
            "Epoch 37/100\n",
            "20/20 [==============================] - 0s 4ms/step - loss: 0.3714 - accuracy: 0.9062 - val_loss: 0.4681 - val_accuracy: 0.8333\n",
            "Epoch 38/100\n",
            "20/20 [==============================] - 0s 4ms/step - loss: 0.3572 - accuracy: 0.9271 - val_loss: 0.4555 - val_accuracy: 0.8750\n",
            "Epoch 39/100\n",
            "20/20 [==============================] - 0s 4ms/step - loss: 0.3513 - accuracy: 0.9375 - val_loss: 0.4412 - val_accuracy: 0.8750\n",
            "Epoch 40/100\n",
            "20/20 [==============================] - 0s 4ms/step - loss: 0.3421 - accuracy: 0.9062 - val_loss: 0.4176 - val_accuracy: 0.9583\n",
            "Epoch 41/100\n",
            "20/20 [==============================] - 0s 4ms/step - loss: 0.3375 - accuracy: 0.9375 - val_loss: 0.4187 - val_accuracy: 0.9167\n",
            "Epoch 42/100\n",
            "20/20 [==============================] - 0s 4ms/step - loss: 0.3346 - accuracy: 0.9167 - val_loss: 0.4239 - val_accuracy: 0.8750\n",
            "Epoch 43/100\n",
            "20/20 [==============================] - 0s 5ms/step - loss: 0.3348 - accuracy: 0.9375 - val_loss: 0.3947 - val_accuracy: 0.9583\n",
            "Epoch 44/100\n",
            "20/20 [==============================] - 0s 3ms/step - loss: 0.3224 - accuracy: 0.9375 - val_loss: 0.4188 - val_accuracy: 0.8750\n",
            "Epoch 45/100\n",
            "20/20 [==============================] - 0s 3ms/step - loss: 0.3174 - accuracy: 0.9271 - val_loss: 0.3895 - val_accuracy: 0.9167\n",
            "Epoch 46/100\n",
            "20/20 [==============================] - 0s 4ms/step - loss: 0.3076 - accuracy: 0.9375 - val_loss: 0.3930 - val_accuracy: 0.8750\n",
            "Epoch 47/100\n",
            "20/20 [==============================] - 0s 4ms/step - loss: 0.3011 - accuracy: 0.9271 - val_loss: 0.3871 - val_accuracy: 0.8750\n",
            "Epoch 48/100\n",
            "20/20 [==============================] - 0s 4ms/step - loss: 0.3012 - accuracy: 0.9271 - val_loss: 0.3967 - val_accuracy: 0.8750\n",
            "Epoch 49/100\n",
            "20/20 [==============================] - 0s 3ms/step - loss: 0.2881 - accuracy: 0.9375 - val_loss: 0.3624 - val_accuracy: 0.9583\n",
            "Epoch 50/100\n",
            "20/20 [==============================] - 0s 5ms/step - loss: 0.2919 - accuracy: 0.9479 - val_loss: 0.3687 - val_accuracy: 0.9167\n",
            "Epoch 51/100\n",
            "20/20 [==============================] - 0s 4ms/step - loss: 0.2851 - accuracy: 0.9375 - val_loss: 0.3737 - val_accuracy: 0.8750\n",
            "Epoch 52/100\n",
            "20/20 [==============================] - 0s 3ms/step - loss: 0.2750 - accuracy: 0.9375 - val_loss: 0.3650 - val_accuracy: 0.8750\n",
            "Epoch 53/100\n",
            "20/20 [==============================] - 0s 3ms/step - loss: 0.2687 - accuracy: 0.9271 - val_loss: 0.3515 - val_accuracy: 0.9167\n",
            "Epoch 54/100\n",
            "20/20 [==============================] - 0s 4ms/step - loss: 0.2689 - accuracy: 0.9375 - val_loss: 0.3345 - val_accuracy: 0.9583\n",
            "Epoch 55/100\n",
            "20/20 [==============================] - 0s 3ms/step - loss: 0.2610 - accuracy: 0.9375 - val_loss: 0.3386 - val_accuracy: 0.9167\n",
            "Epoch 56/100\n",
            "20/20 [==============================] - 0s 4ms/step - loss: 0.2578 - accuracy: 0.9271 - val_loss: 0.3484 - val_accuracy: 0.8750\n",
            "Epoch 57/100\n",
            "20/20 [==============================] - 0s 4ms/step - loss: 0.2512 - accuracy: 0.9375 - val_loss: 0.3296 - val_accuracy: 0.9167\n",
            "Epoch 58/100\n",
            "20/20 [==============================] - 0s 4ms/step - loss: 0.2492 - accuracy: 0.9375 - val_loss: 0.3367 - val_accuracy: 0.8750\n",
            "Epoch 59/100\n",
            "20/20 [==============================] - 0s 4ms/step - loss: 0.2554 - accuracy: 0.9375 - val_loss: 0.3288 - val_accuracy: 0.9167\n",
            "Epoch 60/100\n",
            "20/20 [==============================] - 0s 3ms/step - loss: 0.2441 - accuracy: 0.9375 - val_loss: 0.3108 - val_accuracy: 0.9167\n",
            "Epoch 61/100\n",
            "20/20 [==============================] - 0s 4ms/step - loss: 0.2366 - accuracy: 0.9479 - val_loss: 0.3258 - val_accuracy: 0.8750\n",
            "Epoch 62/100\n",
            "20/20 [==============================] - 0s 5ms/step - loss: 0.2314 - accuracy: 0.9271 - val_loss: 0.3039 - val_accuracy: 0.9167\n",
            "Epoch 63/100\n",
            "20/20 [==============================] - 0s 5ms/step - loss: 0.2410 - accuracy: 0.9375 - val_loss: 0.3013 - val_accuracy: 0.9167\n",
            "Epoch 64/100\n",
            "20/20 [==============================] - 0s 5ms/step - loss: 0.2298 - accuracy: 0.9375 - val_loss: 0.3269 - val_accuracy: 0.8750\n",
            "Epoch 65/100\n",
            "20/20 [==============================] - 0s 5ms/step - loss: 0.2332 - accuracy: 0.9479 - val_loss: 0.2880 - val_accuracy: 0.9583\n",
            "Epoch 66/100\n",
            "20/20 [==============================] - 0s 5ms/step - loss: 0.2158 - accuracy: 0.9375 - val_loss: 0.3076 - val_accuracy: 0.8750\n",
            "Epoch 67/100\n",
            "20/20 [==============================] - 0s 5ms/step - loss: 0.2127 - accuracy: 0.9271 - val_loss: 0.2829 - val_accuracy: 0.9167\n",
            "Epoch 68/100\n",
            "20/20 [==============================] - 0s 4ms/step - loss: 0.2176 - accuracy: 0.9375 - val_loss: 0.2813 - val_accuracy: 0.9167\n",
            "Epoch 69/100\n",
            "20/20 [==============================] - 0s 4ms/step - loss: 0.2127 - accuracy: 0.9479 - val_loss: 0.2965 - val_accuracy: 0.9167\n",
            "Epoch 70/100\n",
            "20/20 [==============================] - 0s 4ms/step - loss: 0.2019 - accuracy: 0.9583 - val_loss: 0.2603 - val_accuracy: 0.9583\n",
            "Epoch 71/100\n",
            "20/20 [==============================] - 0s 5ms/step - loss: 0.2066 - accuracy: 0.9583 - val_loss: 0.2688 - val_accuracy: 0.9167\n",
            "Epoch 72/100\n",
            "20/20 [==============================] - 0s 5ms/step - loss: 0.2063 - accuracy: 0.9583 - val_loss: 0.2651 - val_accuracy: 0.9167\n",
            "Epoch 73/100\n",
            "20/20 [==============================] - 0s 5ms/step - loss: 0.1950 - accuracy: 0.9479 - val_loss: 0.2688 - val_accuracy: 0.9167\n",
            "Epoch 74/100\n",
            "20/20 [==============================] - 0s 5ms/step - loss: 0.1945 - accuracy: 0.9271 - val_loss: 0.2476 - val_accuracy: 0.9583\n",
            "Epoch 75/100\n",
            "20/20 [==============================] - 0s 4ms/step - loss: 0.1896 - accuracy: 0.9479 - val_loss: 0.2551 - val_accuracy: 0.9167\n",
            "Epoch 76/100\n",
            "20/20 [==============================] - 0s 4ms/step - loss: 0.1924 - accuracy: 0.9583 - val_loss: 0.2479 - val_accuracy: 0.9583\n",
            "Epoch 77/100\n",
            "20/20 [==============================] - 0s 5ms/step - loss: 0.1904 - accuracy: 0.9688 - val_loss: 0.2466 - val_accuracy: 0.9583\n",
            "Epoch 78/100\n",
            "20/20 [==============================] - 0s 5ms/step - loss: 0.1881 - accuracy: 0.9479 - val_loss: 0.2676 - val_accuracy: 0.9167\n",
            "Epoch 79/100\n",
            "20/20 [==============================] - 0s 5ms/step - loss: 0.1906 - accuracy: 0.9479 - val_loss: 0.2277 - val_accuracy: 0.9583\n",
            "Epoch 80/100\n",
            "20/20 [==============================] - 0s 4ms/step - loss: 0.1752 - accuracy: 0.9375 - val_loss: 0.2728 - val_accuracy: 0.8750\n",
            "Epoch 81/100\n",
            "20/20 [==============================] - 0s 5ms/step - loss: 0.1747 - accuracy: 0.9479 - val_loss: 0.2241 - val_accuracy: 0.9583\n",
            "Epoch 82/100\n",
            "20/20 [==============================] - 0s 4ms/step - loss: 0.1786 - accuracy: 0.9375 - val_loss: 0.2553 - val_accuracy: 0.9167\n",
            "Epoch 83/100\n",
            "20/20 [==============================] - 0s 6ms/step - loss: 0.1684 - accuracy: 0.9479 - val_loss: 0.2193 - val_accuracy: 0.9583\n",
            "Epoch 84/100\n",
            "20/20 [==============================] - 0s 6ms/step - loss: 0.1728 - accuracy: 0.9583 - val_loss: 0.2268 - val_accuracy: 0.9583\n",
            "Epoch 85/100\n",
            "20/20 [==============================] - 0s 5ms/step - loss: 0.1653 - accuracy: 0.9583 - val_loss: 0.2458 - val_accuracy: 0.9583\n",
            "Epoch 86/100\n",
            "20/20 [==============================] - 0s 5ms/step - loss: 0.1661 - accuracy: 0.9271 - val_loss: 0.2174 - val_accuracy: 0.9583\n",
            "Epoch 87/100\n",
            "20/20 [==============================] - 0s 5ms/step - loss: 0.1630 - accuracy: 0.9479 - val_loss: 0.2242 - val_accuracy: 0.9583\n",
            "Epoch 88/100\n",
            "20/20 [==============================] - 0s 5ms/step - loss: 0.1590 - accuracy: 0.9375 - val_loss: 0.2163 - val_accuracy: 0.9583\n",
            "Epoch 89/100\n",
            "20/20 [==============================] - 0s 4ms/step - loss: 0.1637 - accuracy: 0.9583 - val_loss: 0.2117 - val_accuracy: 0.9583\n",
            "Epoch 90/100\n",
            "20/20 [==============================] - 0s 3ms/step - loss: 0.1585 - accuracy: 0.9479 - val_loss: 0.2108 - val_accuracy: 0.9583\n",
            "Epoch 91/100\n",
            "20/20 [==============================] - 0s 4ms/step - loss: 0.1530 - accuracy: 0.9479 - val_loss: 0.2018 - val_accuracy: 0.9583\n",
            "Epoch 92/100\n",
            "20/20 [==============================] - 0s 5ms/step - loss: 0.1534 - accuracy: 0.9583 - val_loss: 0.2071 - val_accuracy: 1.0000\n",
            "Epoch 93/100\n",
            "20/20 [==============================] - 0s 4ms/step - loss: 0.1549 - accuracy: 0.9583 - val_loss: 0.2020 - val_accuracy: 0.9583\n",
            "Epoch 94/100\n",
            "20/20 [==============================] - 0s 3ms/step - loss: 0.1486 - accuracy: 0.9479 - val_loss: 0.2108 - val_accuracy: 0.9583\n",
            "Epoch 95/100\n",
            "20/20 [==============================] - 0s 4ms/step - loss: 0.1505 - accuracy: 0.9479 - val_loss: 0.2029 - val_accuracy: 1.0000\n",
            "Epoch 96/100\n",
            "20/20 [==============================] - 0s 4ms/step - loss: 0.1479 - accuracy: 0.9479 - val_loss: 0.1975 - val_accuracy: 1.0000\n",
            "Epoch 97/100\n",
            "20/20 [==============================] - 0s 3ms/step - loss: 0.1522 - accuracy: 0.9479 - val_loss: 0.1929 - val_accuracy: 1.0000\n",
            "Epoch 98/100\n",
            "20/20 [==============================] - 0s 4ms/step - loss: 0.1423 - accuracy: 0.9583 - val_loss: 0.1863 - val_accuracy: 0.9583\n",
            "Epoch 99/100\n",
            "20/20 [==============================] - 0s 4ms/step - loss: 0.1476 - accuracy: 0.9583 - val_loss: 0.1844 - val_accuracy: 0.9583\n",
            "Epoch 100/100\n",
            "20/20 [==============================] - 0s 3ms/step - loss: 0.1392 - accuracy: 0.9583 - val_loss: 0.1948 - val_accuracy: 1.0000\n"
          ]
        },
        {
          "output_type": "execute_result",
          "data": {
            "text/plain": [
              "<keras.callbacks.History at 0x7f17fc0d36d0>"
            ]
          },
          "metadata": {},
          "execution_count": 50
        }
      ]
    },
    {
      "cell_type": "code",
      "source": [
        "model.evaluate(X_test, y_test)"
      ],
      "metadata": {
        "colab": {
          "base_uri": "https://localhost:8080/",
          "height": 0
        },
        "id": "ECSVmb5ZeBES",
        "outputId": "c212478f-9110-4f34-f5f7-e6955796becf"
      },
      "execution_count": 51,
      "outputs": [
        {
          "output_type": "stream",
          "name": "stdout",
          "text": [
            "1/1 [==============================] - 0s 29ms/step - loss: 0.1592 - accuracy: 0.9667\n"
          ]
        },
        {
          "output_type": "execute_result",
          "data": {
            "text/plain": [
              "[0.15920454263687134, 0.9666666388511658]"
            ]
          },
          "metadata": {},
          "execution_count": 51
        }
      ]
    },
    {
      "cell_type": "code",
      "source": [
        "#Evaluate the model\n",
        "loss, acc = model.evaluate(X_test, y_test)\n",
        "print(f\"Accuracy: {acc}\")"
      ],
      "metadata": {
        "colab": {
          "base_uri": "https://localhost:8080/",
          "height": 0
        },
        "id": "u6UlNuSzWNrT",
        "outputId": "03de1c8b-ddf0-4faa-a43f-b97fed2b77ec"
      },
      "execution_count": 52,
      "outputs": [
        {
          "output_type": "stream",
          "name": "stdout",
          "text": [
            "1/1 [==============================] - 0s 25ms/step - loss: 0.1592 - accuracy: 0.9667\n",
            "Accuracy: 0.9666666388511658\n"
          ]
        }
      ]
    },
    {
      "cell_type": "code",
      "source": [
        "y_pred = model.predict(X_test)\n",
        "y_pred[:5]"
      ],
      "metadata": {
        "colab": {
          "base_uri": "https://localhost:8080/",
          "height": 0
        },
        "id": "Iz0mqFGDWpSU",
        "outputId": "a060984b-86ff-4495-876e-017847acf120"
      },
      "execution_count": 21,
      "outputs": [
        {
          "output_type": "stream",
          "name": "stdout",
          "text": [
            "1/1 [==============================] - 0s 87ms/step\n"
          ]
        },
        {
          "output_type": "execute_result",
          "data": {
            "text/plain": [
              "array([[7.9441838e-02, 5.6638998e-01, 3.5416821e-01],\n",
              "       [9.9831432e-01, 1.2796848e-03, 4.0594541e-04],\n",
              "       [2.6900081e-03, 1.3333649e-02, 9.8397630e-01],\n",
              "       [8.3100237e-02, 6.0018462e-01, 3.1671518e-01],\n",
              "       [8.8870332e-02, 6.5731698e-01, 2.5381264e-01]], dtype=float32)"
            ]
          },
          "metadata": {},
          "execution_count": 21
        }
      ]
    },
    {
      "cell_type": "code",
      "source": [
        "import numpy as np\n",
        "y_classes = [np.argmax(element) for element in y_pred]\n",
        "y_classes[:5]"
      ],
      "metadata": {
        "colab": {
          "base_uri": "https://localhost:8080/",
          "height": 0
        },
        "id": "lgzQSNByW7qD",
        "outputId": "82b5ce59-0df9-436a-d98f-ef6ba4e02515"
      },
      "execution_count": 23,
      "outputs": [
        {
          "output_type": "execute_result",
          "data": {
            "text/plain": [
              "[1, 0, 2, 1, 1]"
            ]
          },
          "metadata": {},
          "execution_count": 23
        }
      ]
    },
    {
      "cell_type": "code",
      "source": [
        "y_test[:5]"
      ],
      "metadata": {
        "colab": {
          "base_uri": "https://localhost:8080/",
          "height": 0
        },
        "id": "y77P7cB9W_g2",
        "outputId": "02ed31eb-6134-48d3-d035-93140b7c0e4f"
      },
      "execution_count": 24,
      "outputs": [
        {
          "output_type": "execute_result",
          "data": {
            "text/plain": [
              "array([1, 0, 2, 1, 1])"
            ]
          },
          "metadata": {},
          "execution_count": 24
        }
      ]
    },
    {
      "cell_type": "code",
      "source": [
        "y_test[3]"
      ],
      "metadata": {
        "colab": {
          "base_uri": "https://localhost:8080/",
          "height": 0
        },
        "id": "8e0KyDt1YlTn",
        "outputId": "09a84a2a-f2f8-44fb-d2e6-cc70d88a25d2"
      },
      "execution_count": 27,
      "outputs": [
        {
          "output_type": "execute_result",
          "data": {
            "text/plain": [
              "1"
            ]
          },
          "metadata": {},
          "execution_count": 27
        }
      ]
    },
    {
      "cell_type": "code",
      "source": [
        "iris_class[y_classes[3]]"
      ],
      "metadata": {
        "colab": {
          "base_uri": "https://localhost:8080/",
          "height": 35
        },
        "id": "J2EZYnVAYnwt",
        "outputId": "12c1bb7e-aa08-4fc9-b2ef-a2d0bf9e328b"
      },
      "execution_count": 28,
      "outputs": [
        {
          "output_type": "execute_result",
          "data": {
            "text/plain": [
              "'1-versicolor'"
            ],
            "application/vnd.google.colaboratory.intrinsic+json": {
              "type": "string"
            }
          },
          "metadata": {},
          "execution_count": 28
        }
      ]
    },
    {
      "cell_type": "code",
      "source": [
        "y_test[11]"
      ],
      "metadata": {
        "colab": {
          "base_uri": "https://localhost:8080/",
          "height": 0
        },
        "id": "Pnx7wBlRYxyc",
        "outputId": "1aff3e99-4e22-4b01-ab27-90554a8cf623"
      },
      "execution_count": 29,
      "outputs": [
        {
          "output_type": "execute_result",
          "data": {
            "text/plain": [
              "0"
            ]
          },
          "metadata": {},
          "execution_count": 29
        }
      ]
    },
    {
      "cell_type": "code",
      "source": [
        "iris_class[y_classes[11]]"
      ],
      "metadata": {
        "colab": {
          "base_uri": "https://localhost:8080/",
          "height": 35
        },
        "id": "5MjdnWaQY0zk",
        "outputId": "439ba2b7-8543-4290-aba1-9e1e5525e5b5"
      },
      "execution_count": 30,
      "outputs": [
        {
          "output_type": "execute_result",
          "data": {
            "text/plain": [
              "'0-setosa'"
            ],
            "application/vnd.google.colaboratory.intrinsic+json": {
              "type": "string"
            }
          },
          "metadata": {},
          "execution_count": 30
        }
      ]
    },
    {
      "cell_type": "markdown",
      "source": [
        "The accuracy of the model on unseen data has been improved from 15%>>>>96%. \n",
        "So we built an efficient model."
      ],
      "metadata": {
        "id": "x41RD_osaEJr"
      }
    },
    {
      "cell_type": "markdown",
      "source": [
        "Q3."
      ],
      "metadata": {
        "id": "WyD-hApOk0c7"
      }
    },
    {
      "cell_type": "markdown",
      "source": [
        "A Convolutional Neural Network (CNN) is a type of deep learning algorithm that is particularly well-suited for image recognition and processing tasks. It is made up of multiple layers, including convolutional layers, pooling layers, and fully connected layers.A CNN can be used to classify new images, or extract features for use in other applications such as object detection or image segmentation.Different Types of CNN Models are LeNet ,AlexNet ,ResNet ,GoogleNet ,MobileNet ,VGG."
      ],
      "metadata": {
        "id": "Gw1pDVRdlhS2"
      }
    },
    {
      "cell_type": "code",
      "source": [
        "import tensorflow as tf\n",
        "from tensorflow.keras import datasets, layers, models\n",
        "import matplotlib.pyplot as plt\n",
        "import numpy as np"
      ],
      "metadata": {
        "id": "bbNJDQkMlwDT"
      },
      "execution_count": 99,
      "outputs": []
    },
    {
      "cell_type": "code",
      "source": [
        "#load dataset\n",
        "(X_train, y_train), (X_test,y_test) = datasets.cifar10.load_data()\n",
        "X_train.shape"
      ],
      "metadata": {
        "colab": {
          "base_uri": "https://localhost:8080/",
          "height": 0
        },
        "id": "icI6xUwzmH94",
        "outputId": "f6fbeb77-8837-4fa5-f850-3edba5b55b9e"
      },
      "execution_count": 100,
      "outputs": [
        {
          "output_type": "execute_result",
          "data": {
            "text/plain": [
              "(50000, 32, 32, 3)"
            ]
          },
          "metadata": {},
          "execution_count": 100
        }
      ]
    },
    {
      "cell_type": "code",
      "source": [
        "X_train.shape"
      ],
      "metadata": {
        "colab": {
          "base_uri": "https://localhost:8080/",
          "height": 0
        },
        "id": "0ouW1RsgmLaX",
        "outputId": "1ce6e377-6c93-4519-c77f-5511be0e0f89"
      },
      "execution_count": 101,
      "outputs": [
        {
          "output_type": "execute_result",
          "data": {
            "text/plain": [
              "(50000, 32, 32, 3)"
            ]
          },
          "metadata": {},
          "execution_count": 101
        }
      ]
    },
    {
      "cell_type": "code",
      "source": [
        "X_test.shape"
      ],
      "metadata": {
        "colab": {
          "base_uri": "https://localhost:8080/",
          "height": 0
        },
        "id": "7OisIgUUmSxM",
        "outputId": "6d2b8287-b3a6-48b1-88f5-914731343901"
      },
      "execution_count": 102,
      "outputs": [
        {
          "output_type": "execute_result",
          "data": {
            "text/plain": [
              "(10000, 32, 32, 3)"
            ]
          },
          "metadata": {},
          "execution_count": 102
        }
      ]
    },
    {
      "cell_type": "markdown",
      "source": [
        "There are 50000 training images and 1000 test images"
      ],
      "metadata": {
        "id": "Po1jPTIamz4D"
      }
    },
    {
      "cell_type": "code",
      "source": [
        "y_train.shape"
      ],
      "metadata": {
        "colab": {
          "base_uri": "https://localhost:8080/",
          "height": 0
        },
        "id": "1wYwX1wemUri",
        "outputId": "f8838200-6b94-4b33-96bd-1aed3bdc5601"
      },
      "execution_count": 103,
      "outputs": [
        {
          "output_type": "execute_result",
          "data": {
            "text/plain": [
              "(50000, 1)"
            ]
          },
          "metadata": {},
          "execution_count": 103
        }
      ]
    },
    {
      "cell_type": "code",
      "source": [
        "y_train[:5]"
      ],
      "metadata": {
        "colab": {
          "base_uri": "https://localhost:8080/",
          "height": 0
        },
        "id": "K_335eVgm3ch",
        "outputId": "610dd34d-e117-4f4a-b644-880f594f0c64"
      },
      "execution_count": 104,
      "outputs": [
        {
          "output_type": "execute_result",
          "data": {
            "text/plain": [
              "array([[6],\n",
              "       [9],\n",
              "       [9],\n",
              "       [4],\n",
              "       [1]], dtype=uint8)"
            ]
          },
          "metadata": {},
          "execution_count": 104
        }
      ]
    },
    {
      "cell_type": "code",
      "source": [
        "#y_train is a 2D array, for our classification having 1D array is good enough. so we will convert this to now 1D array\n",
        "y_train = y_train.reshape(-1,)\n",
        "y_train[:5]"
      ],
      "metadata": {
        "colab": {
          "base_uri": "https://localhost:8080/",
          "height": 0
        },
        "id": "0yMV66_bm5le",
        "outputId": "80a27482-3769-4a40-ff61-b6361cf55615"
      },
      "execution_count": 105,
      "outputs": [
        {
          "output_type": "execute_result",
          "data": {
            "text/plain": [
              "array([6, 9, 9, 4, 1], dtype=uint8)"
            ]
          },
          "metadata": {},
          "execution_count": 105
        }
      ]
    },
    {
      "cell_type": "code",
      "source": [
        "y_test = y_test.reshape(-1,)"
      ],
      "metadata": {
        "id": "gefX8yL7nAcz"
      },
      "execution_count": 106,
      "outputs": []
    },
    {
      "cell_type": "code",
      "source": [
        "classes = [\"airplane\",\"automobile\",\"bird\",\"cat\",\"deer\",\"dog\",\"frog\",\"horse\",\"ship\",\"truck\"]"
      ],
      "metadata": {
        "id": "PrfbR4CinCxs"
      },
      "execution_count": 107,
      "outputs": []
    },
    {
      "cell_type": "code",
      "source": [
        "def plot_sample(X, y, index):\n",
        "    plt.figure(figsize = (15,2))\n",
        "    plt.imshow(X[index])\n",
        "    plt.xlabel(classes[y[index]])"
      ],
      "metadata": {
        "id": "RXmD6LfnnF6U"
      },
      "execution_count": 108,
      "outputs": []
    },
    {
      "cell_type": "code",
      "source": [
        "plot_sample(X_train, y_train, 4)"
      ],
      "metadata": {
        "colab": {
          "base_uri": "https://localhost:8080/",
          "height": 237
        },
        "id": "FOoOQNz-nIOb",
        "outputId": "43d55e2f-9146-4a88-d7b6-564b24dedd49"
      },
      "execution_count": 109,
      "outputs": [
        {
          "output_type": "display_data",
          "data": {
            "text/plain": [
              "<Figure size 1500x200 with 1 Axes>"
            ],
            "image/png": "[encoded data removed]"
          },
          "metadata": {}
        }
      ]
    },
    {
      "cell_type": "code",
      "source": [
        "plot_sample(X_train, y_train, 8)"
      ],
      "metadata": {
        "colab": {
          "base_uri": "https://localhost:8080/",
          "height": 237
        },
        "id": "QjNqZJ5unNz2",
        "outputId": "d64a33d1-1085-4692-dba9-739cd31b7eeb"
      },
      "execution_count": 110,
      "outputs": [
        {
          "output_type": "display_data",
          "data": {
            "text/plain": [
              "<Figure size 1500x200 with 1 Axes>"
            ],
            "image/png": "[encoded data removed]"
          },
          "metadata": {}
        }
      ]
    },
    {
      "cell_type": "markdown",
      "source": [
        "Normalize the images to a number from 0 to 1. Image has 3 channels (R,G,B) and each value in the channel can range from 0 to 255. Hence to normalize in 0-->1 range, we need to divide it by 255."
      ],
      "metadata": {
        "id": "oDIgkOYXnXRy"
      }
    },
    {
      "cell_type": "code",
      "source": [
        "#Normalize the training data\n",
        "X_train = X_train / 255.0\n",
        "X_test = X_test / 255.0"
      ],
      "metadata": {
        "id": "RyZiAalxnZx7"
      },
      "execution_count": 111,
      "outputs": []
    },
    {
      "cell_type": "code",
      "source": [
        "ann = models.Sequential([\n",
        "        layers.Flatten(input_shape=(32,32,3)),\n",
        "        layers.Dense(3000, activation='relu'),\n",
        "        layers.Dense(1000, activation='relu'),\n",
        "        layers.Dense(10, activation='sigmoid')    \n",
        "    ])\n",
        "\n",
        "ann.compile(optimizer='SGD',\n",
        "              loss='sparse_categorical_crossentropy',\n",
        "              metrics=['accuracy'])\n",
        "\n",
        "ann.fit(X_train, y_train, epochs=5)"
      ],
      "metadata": {
        "colab": {
          "base_uri": "https://localhost:8080/",
          "height": 0
        },
        "id": "934wazzQp54d",
        "outputId": "1b5fd8bd-4a55-41d5-c074-ec314afd8c93"
      },
      "execution_count": 112,
      "outputs": [
        {
          "output_type": "stream",
          "name": "stdout",
          "text": [
            "Epoch 1/5\n",
            "1563/1563 [==============================] - 129s 82ms/step - loss: 1.8104 - accuracy: 0.3570\n",
            "Epoch 2/5\n",
            "1563/1563 [==============================] - 131s 84ms/step - loss: 1.6227 - accuracy: 0.4255\n",
            "Epoch 3/5\n",
            "1563/1563 [==============================] - 131s 84ms/step - loss: 1.5414 - accuracy: 0.4586\n",
            "Epoch 4/5\n",
            "1563/1563 [==============================] - 130s 83ms/step - loss: 1.4817 - accuracy: 0.4794\n",
            "Epoch 5/5\n",
            "1563/1563 [==============================] - 129s 83ms/step - loss: 1.4322 - accuracy: 0.4954\n"
          ]
        },
        {
          "output_type": "execute_result",
          "data": {
            "text/plain": [
              "<keras.callbacks.History at 0x7f17e5302160>"
            ]
          },
          "metadata": {},
          "execution_count": 112
        }
      ]
    },
    {
      "cell_type": "code",
      "source": [
        "from sklearn.metrics import confusion_matrix , classification_report\n",
        "import numpy as np\n",
        "y_pred = ann.predict(X_test)\n",
        "y_pred_classes = [np.argmax(element) for element in y_pred]\n",
        "\n",
        "print(\"Classification Report: \\n\", classification_report(y_test, y_pred_classes))"
      ],
      "metadata": {
        "colab": {
          "base_uri": "https://localhost:8080/",
          "height": 0
        },
        "id": "5SC9L96bv1Py",
        "outputId": "42134ba5-5b73-4ec7-a64b-2b0a82febf79"
      },
      "execution_count": 113,
      "outputs": [
        {
          "output_type": "stream",
          "name": "stdout",
          "text": [
            "313/313 [==============================] - 8s 26ms/step\n",
            "Classification Report: \n",
            "               precision    recall  f1-score   support\n",
            "\n",
            "           0       0.64      0.49      0.56      1000\n",
            "           1       0.60      0.64      0.62      1000\n",
            "           2       0.46      0.20      0.28      1000\n",
            "           3       0.24      0.65      0.35      1000\n",
            "           4       0.59      0.18      0.27      1000\n",
            "           5       0.38      0.32      0.35      1000\n",
            "           6       0.44      0.62      0.51      1000\n",
            "           7       0.68      0.39      0.50      1000\n",
            "           8       0.64      0.59      0.62      1000\n",
            "           9       0.57      0.55      0.56      1000\n",
            "\n",
            "    accuracy                           0.46     10000\n",
            "   macro avg       0.52      0.46      0.46     10000\n",
            "weighted avg       0.52      0.46      0.46     10000\n",
            "\n"
          ]
        }
      ]
    },
    {
      "cell_type": "code",
      "source": [
        "cnn = models.Sequential([\n",
        "    layers.Conv2D(filters=32, kernel_size=(3, 3), activation='relu', input_shape=(32, 32, 3)),\n",
        "    layers.MaxPooling2D((2, 2)),\n",
        "    \n",
        "    layers.Conv2D(filters=64, kernel_size=(3, 3), activation='relu'),\n",
        "    layers.MaxPooling2D((2, 2)),\n",
        "    \n",
        "    layers.Flatten(),\n",
        "    layers.Dense(64, activation='relu'),\n",
        "    layers.Dense(10, activation='softmax')\n",
        "])"
      ],
      "metadata": {
        "id": "YXOkSArTzT6i"
      },
      "execution_count": 114,
      "outputs": []
    },
    {
      "cell_type": "code",
      "source": [
        "cnn.compile(optimizer='adam',\n",
        "              loss='sparse_categorical_crossentropy',\n",
        "              metrics=['accuracy'])"
      ],
      "metadata": {
        "id": "Bv98X553zc8N"
      },
      "execution_count": 115,
      "outputs": []
    },
    {
      "cell_type": "code",
      "source": [
        "cnn.fit(X_train, y_train, epochs=10)"
      ],
      "metadata": {
        "colab": {
          "base_uri": "https://localhost:8080/",
          "height": 0
        },
        "id": "33Wan98Rzfra",
        "outputId": "23447512-0cdb-45c1-a6a1-06caa215d1fa"
      },
      "execution_count": 116,
      "outputs": [
        {
          "output_type": "stream",
          "name": "stdout",
          "text": [
            "Epoch 1/10\n",
            "1563/1563 [==============================] - 70s 44ms/step - loss: 1.5216 - accuracy: 0.4502\n",
            "Epoch 2/10\n",
            "1563/1563 [==============================] - 70s 45ms/step - loss: 1.1616 - accuracy: 0.5941\n",
            "Epoch 3/10\n",
            "1563/1563 [==============================] - 68s 44ms/step - loss: 1.0216 - accuracy: 0.6454\n",
            "Epoch 4/10\n",
            "1563/1563 [==============================] - 68s 44ms/step - loss: 0.9361 - accuracy: 0.6733\n",
            "Epoch 5/10\n",
            "1563/1563 [==============================] - 69s 44ms/step - loss: 0.8730 - accuracy: 0.6998\n",
            "Epoch 6/10\n",
            "1563/1563 [==============================] - 68s 43ms/step - loss: 0.8173 - accuracy: 0.7186\n",
            "Epoch 7/10\n",
            "1563/1563 [==============================] - 68s 43ms/step - loss: 0.7687 - accuracy: 0.7332\n",
            "Epoch 8/10\n",
            "1563/1563 [==============================] - 68s 43ms/step - loss: 0.7308 - accuracy: 0.7453\n",
            "Epoch 9/10\n",
            "1563/1563 [==============================] - 69s 44ms/step - loss: 0.6959 - accuracy: 0.7585\n",
            "Epoch 10/10\n",
            "1563/1563 [==============================] - 68s 44ms/step - loss: 0.6563 - accuracy: 0.7706\n"
          ]
        },
        {
          "output_type": "execute_result",
          "data": {
            "text/plain": [
              "<keras.callbacks.History at 0x7f17ecffd430>"
            ]
          },
          "metadata": {},
          "execution_count": 116
        }
      ]
    },
    {
      "cell_type": "markdown",
      "source": [
        "CNN model works better than ANN for cifar image classification with 77% accuracy at the end of 10th epoch"
      ],
      "metadata": {
        "id": "Yxaewe8Szs10"
      }
    },
    {
      "cell_type": "code",
      "source": [
        "cnn.evaluate(X_test,y_test)"
      ],
      "metadata": {
        "colab": {
          "base_uri": "https://localhost:8080/",
          "height": 0
        },
        "id": "Gj0h1DgQziTV",
        "outputId": "5ca5a96e-5ee4-40e0-8703-728a9cc6a53c"
      },
      "execution_count": 117,
      "outputs": [
        {
          "output_type": "stream",
          "name": "stdout",
          "text": [
            "313/313 [==============================] - 4s 11ms/step - loss: 0.8961 - accuracy: 0.7006\n"
          ]
        },
        {
          "output_type": "execute_result",
          "data": {
            "text/plain": [
              "[0.8961193561553955, 0.7006000280380249]"
            ]
          },
          "metadata": {},
          "execution_count": 117
        }
      ]
    },
    {
      "cell_type": "code",
      "source": [
        "y_pred = cnn.predict(X_test)\n",
        "y_pred[:5]"
      ],
      "metadata": {
        "colab": {
          "base_uri": "https://localhost:8080/",
          "height": 0
        },
        "id": "k6BGcOZFzzv3",
        "outputId": "7a2bd9b8-1d97-4ffd-a319-d97e06d52d34"
      },
      "execution_count": 118,
      "outputs": [
        {
          "output_type": "stream",
          "name": "stdout",
          "text": [
            "313/313 [==============================] - 4s 11ms/step\n"
          ]
        },
        {
          "output_type": "execute_result",
          "data": {
            "text/plain": [
              "array([[2.33047002e-04, 5.75543197e-07, 1.31808498e-04, 9.71312225e-01,\n",
              "        2.23712850e-05, 2.82313023e-02, 4.64650730e-05, 1.02840550e-05,\n",
              "        1.05015115e-05, 1.32654918e-06],\n",
              "       [1.59593264e-03, 1.03017725e-01, 3.23504901e-05, 1.17350446e-05,\n",
              "        4.05456717e-08, 4.00021491e-07, 5.65821210e-07, 4.32562274e-07,\n",
              "        8.88527453e-01, 6.81322254e-03],\n",
              "       [1.14025407e-01, 6.11585736e-01, 1.21030798e-02, 2.63384320e-02,\n",
              "        3.35530657e-03, 2.54333182e-03, 6.14215678e-04, 8.55150353e-03,\n",
              "        1.07078120e-01, 1.13804862e-01],\n",
              "       [8.26161742e-01, 4.54427302e-03, 4.04804237e-02, 4.76245256e-03,\n",
              "        3.63801926e-04, 1.75592741e-05, 2.26319185e-04, 1.00407175e-04,\n",
              "        1.23297907e-01, 4.50458938e-05],\n",
              "       [1.63172444e-05, 1.19528640e-05, 4.32154574e-02, 2.62121260e-02,\n",
              "        5.82871497e-01, 6.01699948e-03, 3.41543406e-01, 6.25234388e-05,\n",
              "        4.46411468e-05, 5.15589136e-06]], dtype=float32)"
            ]
          },
          "metadata": {},
          "execution_count": 118
        }
      ]
    },
    {
      "cell_type": "code",
      "source": [
        "y_test[1:5]"
      ],
      "metadata": {
        "colab": {
          "base_uri": "https://localhost:8080/",
          "height": 0
        },
        "id": "MP1qUYRrz3gK",
        "outputId": "342d2b83-6761-4b81-8e3d-a326075f3517"
      },
      "execution_count": 128,
      "outputs": [
        {
          "output_type": "execute_result",
          "data": {
            "text/plain": [
              "array([8, 8, 0, 6], dtype=uint8)"
            ]
          },
          "metadata": {},
          "execution_count": 128
        }
      ]
    },
    {
      "cell_type": "code",
      "source": [
        "plot_sample(X_test, y_test,6)"
      ],
      "metadata": {
        "colab": {
          "base_uri": "https://localhost:8080/",
          "height": 237
        },
        "id": "gBYS4BiV0M8q",
        "outputId": "e83b9b66-902d-4f26-b255-5e94db48a33a"
      },
      "execution_count": 132,
      "outputs": [
        {
          "output_type": "display_data",
          "data": {
            "text/plain": [
              "<Figure size 1500x200 with 1 Axes>"
            ],
            "image/png": "[encoded data removed]"
          },
          "metadata": {}
        }
      ]
    },
    {
      "cell_type": "code",
      "source": [
        "classes[y_classes[6]]"
      ],
      "metadata": {
        "colab": {
          "base_uri": "https://localhost:8080/",
          "height": 35
        },
        "id": "-z8aHZNA0Os6",
        "outputId": "5cea91e3-5156-4caf-e6f5-640ccd0cddf6"
      },
      "execution_count": 133,
      "outputs": [
        {
          "output_type": "execute_result",
          "data": {
            "text/plain": [
              "'automobile'"
            ],
            "application/vnd.google.colaboratory.intrinsic+json": {
              "type": "string"
            }
          },
          "metadata": {},
          "execution_count": 133
        }
      ]
    },
    {
      "cell_type": "code",
      "source": [],
      "metadata": {
        "id": "6yzfYu8b0SzS"
      },
      "execution_count": 126,
      "outputs": []
    }
  ]
}